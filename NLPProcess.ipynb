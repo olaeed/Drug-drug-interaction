{
  "cells": [
    {
      "cell_type": "markdown",
      "metadata": {
        "id": "KK6VPgq5KJRT"
      },
      "source": [
        "\n",
        "# **NLP Processing of Drug Interactions using StanfordNLP**\n",
        "\n",
        "---\n",
        " This Jupyter notebook demonstrates the process of \n",
        "  extracting relevant information from drug interaction events using the StanfordNLP library.\n",
        "\n",
        "**The code provided**\n",
        "\n",
        " * implements a pipeline that takes a list of drug interactions \n",
        " * performs NLP-based analysis to extract \n",
        "    1. the mechanism\n",
        "    2. action\n",
        "    3. drug information.\n",
        "---\n",
        "\n"
      ]
    },
    {
      "cell_type": "code",
      "execution_count": null,
      "metadata": {
        "id": "qb5jBPH1i3Mw"
      },
      "outputs": [],
      "source": []
    },
    {
      "cell_type": "markdown",
      "metadata": {
        "id": "AxvyWipUKnZI"
      },
      "source": [
        "## 1. Install Used Library's \n"
      ]
    },
    {
      "cell_type": "code",
      "execution_count": null,
      "metadata": {},
      "outputs": [],
      "source": []
    },
    {
      "cell_type": "code",
      "execution_count": 2,
      "metadata": {
        "id": "LAM25-bHOBv-"
      },
      "outputs": [],
      "source": [
        "import numpy as np"
      ]
    },
    {
      "cell_type": "markdown",
      "metadata": {
        "id": "XpG7kZ9_Pg1M"
      },
      "source": [
        "## 2. Extract dependency relations"
      ]
    },
    {
      "cell_type": "markdown",
      "metadata": {
        "id": "htKBlq9oQJGW"
      },
      "source": [
        "![pipeline.png](data:image/png;base64,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)\n",
        "\n",
        "\n"
      ]
    },
    {
      "cell_type": "markdown",
      "metadata": {
        "id": "kREzP0pGQh2E"
      },
      "source": [
        "* **Tokenize** --> turning text into tokens\n",
        "* **ssplit** --> Sentence splitting is the process of dividing text into sentences\n",
        "* **pos** --> apply part of speech tags to the input text [Tags_Cheet_Sheat](https://www.google.com/url?sa=i&url=https%3A%2F%2Fm-clark.github.io%2Ftext-analysis-with-R%2Fpart-of-speech-tagging.html&psig=AOvVaw3ObhZmEaWNOhAx29ssFcKR&ust=1685401013530000&source=images&cd=vfe&ved=0CBEQjRxqFwoTCIiSzpzAl_8CFQAAAAAdAAAAABAQ)\n",
        "* **lemma** --> maps a word to its lemma (dictionary form)\n",
        "* **ner** --> Recognizes named entities (person and company names, etc.) in text\n",
        "* **depparse** --> Provides a fast syntactic dependency parser\n"
      ]
    },
    {
      "cell_type": "code",
      "execution_count": 3,
      "metadata": {
        "id": "x7vosMRnPltu"
      },
      "outputs": [],
      "source": [
        "def processDependency(event):\n",
        "    \"\"\"\n",
        "    Process the dependency relations of an event using StanfordNLP.\n",
        "    Returns the dependency relations.\n",
        "    \"\"\"\n",
        "    nlp = stanfordnlp.Pipeline()\n",
        "    doc = nlp(event)\n",
        "    return doc.sentences[0].words"
      ]
    },
    {
      "cell_type": "code",
      "execution_count": 4,
      "metadata": {
        "id": "2jJGTAjKPmgo"
      },
      "outputs": [
        {
          "name": "stdout",
          "output_type": "stream",
          "text": [
            "Use device: cpu\n",
            "---\n",
            "Loading: tokenize\n",
            "With settings: \n",
            "{'model_path': 'C:\\\\Users\\\\Eng Osama Mo\\\\stanfordnlp_resources\\\\en_ewt_models\\\\en_ewt_tokenizer.pt', 'lang': 'en', 'shorthand': 'en_ewt', 'mode': 'predict'}\n",
            "Cannot load model from C:\\Users\\Eng Osama Mo\\stanfordnlp_resources\\en_ewt_models\\en_ewt_tokenizer.pt\n"
          ]
        },
        {
          "ename": "AssertionError",
          "evalue": "",
          "output_type": "error",
          "traceback": [
            "\u001b[1;31m---------------------------------------------------------------------------\u001b[0m",
            "\u001b[1;31mFileNotFoundError\u001b[0m                         Traceback (most recent call last)",
            "File \u001b[1;32mc:\\Users\\Eng Osama Mo\\AppData\\Local\\Programs\\Python\\Python310\\lib\\site-packages\\stanfordnlp\\models\\tokenize\\trainer.py:82\u001b[0m, in \u001b[0;36mTrainer.load\u001b[1;34m(self, filename)\u001b[0m\n\u001b[0;32m     81\u001b[0m \u001b[39mtry\u001b[39;00m:\n\u001b[1;32m---> 82\u001b[0m     checkpoint \u001b[39m=\u001b[39m torch\u001b[39m.\u001b[39;49mload(filename, \u001b[39mlambda\u001b[39;49;00m storage, loc: storage)\n\u001b[0;32m     83\u001b[0m \u001b[39mexcept\u001b[39;00m \u001b[39mBaseException\u001b[39;00m:\n",
            "File \u001b[1;32mc:\\Users\\Eng Osama Mo\\AppData\\Local\\Programs\\Python\\Python310\\lib\\site-packages\\torch\\serialization.py:791\u001b[0m, in \u001b[0;36mload\u001b[1;34m(f, map_location, pickle_module, weights_only, **pickle_load_args)\u001b[0m\n\u001b[0;32m    789\u001b[0m     pickle_load_args[\u001b[39m'\u001b[39m\u001b[39mencoding\u001b[39m\u001b[39m'\u001b[39m] \u001b[39m=\u001b[39m \u001b[39m'\u001b[39m\u001b[39mutf-8\u001b[39m\u001b[39m'\u001b[39m\n\u001b[1;32m--> 791\u001b[0m \u001b[39mwith\u001b[39;00m _open_file_like(f, \u001b[39m'\u001b[39;49m\u001b[39mrb\u001b[39;49m\u001b[39m'\u001b[39;49m) \u001b[39mas\u001b[39;00m opened_file:\n\u001b[0;32m    792\u001b[0m     \u001b[39mif\u001b[39;00m _is_zipfile(opened_file):\n\u001b[0;32m    793\u001b[0m         \u001b[39m# The zipfile reader is going to advance the current file position.\u001b[39;00m\n\u001b[0;32m    794\u001b[0m         \u001b[39m# If we want to actually tail call to torch.jit.load, we need to\u001b[39;00m\n\u001b[0;32m    795\u001b[0m         \u001b[39m# reset back to the original position.\u001b[39;00m\n",
            "File \u001b[1;32mc:\\Users\\Eng Osama Mo\\AppData\\Local\\Programs\\Python\\Python310\\lib\\site-packages\\torch\\serialization.py:271\u001b[0m, in \u001b[0;36m_open_file_like\u001b[1;34m(name_or_buffer, mode)\u001b[0m\n\u001b[0;32m    270\u001b[0m \u001b[39mif\u001b[39;00m _is_path(name_or_buffer):\n\u001b[1;32m--> 271\u001b[0m     \u001b[39mreturn\u001b[39;00m _open_file(name_or_buffer, mode)\n\u001b[0;32m    272\u001b[0m \u001b[39melse\u001b[39;00m:\n",
            "File \u001b[1;32mc:\\Users\\Eng Osama Mo\\AppData\\Local\\Programs\\Python\\Python310\\lib\\site-packages\\torch\\serialization.py:252\u001b[0m, in \u001b[0;36m_open_file.__init__\u001b[1;34m(self, name, mode)\u001b[0m\n\u001b[0;32m    251\u001b[0m \u001b[39mdef\u001b[39;00m \u001b[39m__init__\u001b[39m(\u001b[39mself\u001b[39m, name, mode):\n\u001b[1;32m--> 252\u001b[0m     \u001b[39msuper\u001b[39m()\u001b[39m.\u001b[39m\u001b[39m__init__\u001b[39m(\u001b[39mopen\u001b[39;49m(name, mode))\n",
            "\u001b[1;31mFileNotFoundError\u001b[0m: [Errno 2] No such file or directory: 'C:\\\\Users\\\\Eng Osama Mo\\\\stanfordnlp_resources\\\\en_ewt_models\\\\en_ewt_tokenizer.pt'",
            "\nDuring handling of the above exception, another exception occurred:\n",
            "\u001b[1;31mSystemExit\u001b[0m                                Traceback (most recent call last)",
            "    \u001b[1;31m[... skipping hidden 1 frame]\u001b[0m\n",
            "\u001b[1;32mc:\\Users\\Eng Osama Mo\\OneDrive\\Desktop\\final DDI\\NLPProcess.ipynb Cell 11\u001b[0m in \u001b[0;36m<cell line: 1>\u001b[1;34m()\u001b[0m\n\u001b[1;32m----> <a href='vscode-notebook-cell:/c%3A/Users/Eng%20Osama%20Mo/OneDrive/Desktop/final%20DDI/NLPProcess.ipynb#X13sZmlsZQ%3D%3D?line=0'>1</a>\u001b[0m processDependency(\u001b[39m\"\u001b[39;49m\u001b[39mI Said \u001b[39;49m\u001b[39m'\u001b[39;49m\u001b[39mHello Osama Mohammed\u001b[39;49m\u001b[39m'\u001b[39;49m\u001b[39m\"\u001b[39;49m)\n",
            "\u001b[1;32mc:\\Users\\Eng Osama Mo\\OneDrive\\Desktop\\final DDI\\NLPProcess.ipynb Cell 11\u001b[0m in \u001b[0;36mprocessDependency\u001b[1;34m(event)\u001b[0m\n\u001b[0;32m      <a href='vscode-notebook-cell:/c%3A/Users/Eng%20Osama%20Mo/OneDrive/Desktop/final%20DDI/NLPProcess.ipynb#X13sZmlsZQ%3D%3D?line=1'>2</a>\u001b[0m \u001b[39m\"\"\"\u001b[39;00m\n\u001b[0;32m      <a href='vscode-notebook-cell:/c%3A/Users/Eng%20Osama%20Mo/OneDrive/Desktop/final%20DDI/NLPProcess.ipynb#X13sZmlsZQ%3D%3D?line=2'>3</a>\u001b[0m \u001b[39mProcess the dependency relations of an event using StanfordNLP.\u001b[39;00m\n\u001b[0;32m      <a href='vscode-notebook-cell:/c%3A/Users/Eng%20Osama%20Mo/OneDrive/Desktop/final%20DDI/NLPProcess.ipynb#X13sZmlsZQ%3D%3D?line=3'>4</a>\u001b[0m \u001b[39mReturns the dependency relations.\u001b[39;00m\n\u001b[0;32m      <a href='vscode-notebook-cell:/c%3A/Users/Eng%20Osama%20Mo/OneDrive/Desktop/final%20DDI/NLPProcess.ipynb#X13sZmlsZQ%3D%3D?line=4'>5</a>\u001b[0m \u001b[39m\"\"\"\u001b[39;00m\n\u001b[1;32m----> <a href='vscode-notebook-cell:/c%3A/Users/Eng%20Osama%20Mo/OneDrive/Desktop/final%20DDI/NLPProcess.ipynb#X13sZmlsZQ%3D%3D?line=5'>6</a>\u001b[0m nlp \u001b[39m=\u001b[39m stanfordnlp\u001b[39m.\u001b[39;49mPipeline()\n\u001b[0;32m      <a href='vscode-notebook-cell:/c%3A/Users/Eng%20Osama%20Mo/OneDrive/Desktop/final%20DDI/NLPProcess.ipynb#X13sZmlsZQ%3D%3D?line=6'>7</a>\u001b[0m doc \u001b[39m=\u001b[39m nlp(event)\n",
            "File \u001b[1;32mc:\\Users\\Eng Osama Mo\\AppData\\Local\\Programs\\Python\\Python310\\lib\\site-packages\\stanfordnlp\\pipeline\\core.py:121\u001b[0m, in \u001b[0;36mPipeline.__init__\u001b[1;34m(self, processors, lang, models_dir, treebank, use_gpu, **kwargs)\u001b[0m\n\u001b[0;32m    119\u001b[0m \u001b[39mtry\u001b[39;00m:\n\u001b[0;32m    120\u001b[0m     \u001b[39m# try to build processor, throw an exception if there is a requirements issue\u001b[39;00m\n\u001b[1;32m--> 121\u001b[0m     \u001b[39mself\u001b[39m\u001b[39m.\u001b[39mprocessors[processor_name] \u001b[39m=\u001b[39m NAME_TO_PROCESSOR_CLASS[processor_name](config\u001b[39m=\u001b[39;49mcurr_processor_config,\n\u001b[0;32m    122\u001b[0m                                                                               pipeline\u001b[39m=\u001b[39;49m\u001b[39mself\u001b[39;49m,\n\u001b[0;32m    123\u001b[0m                                                                               use_gpu\u001b[39m=\u001b[39;49m\u001b[39mself\u001b[39;49m\u001b[39m.\u001b[39;49muse_gpu)\n\u001b[0;32m    124\u001b[0m \u001b[39mexcept\u001b[39;00m ProcessorRequirementsException \u001b[39mas\u001b[39;00m e:\n\u001b[0;32m    125\u001b[0m     \u001b[39m# if there was a requirements issue, add it to list which will be printed at end\u001b[39;00m\n",
            "File \u001b[1;32mc:\\Users\\Eng Osama Mo\\AppData\\Local\\Programs\\Python\\Python310\\lib\\site-packages\\stanfordnlp\\pipeline\\processor.py:102\u001b[0m, in \u001b[0;36mUDProcessor.__init__\u001b[1;34m(self, config, pipeline, use_gpu)\u001b[0m\n\u001b[0;32m    101\u001b[0m \u001b[39mself\u001b[39m\u001b[39m.\u001b[39m_vocab \u001b[39m=\u001b[39m \u001b[39mNone\u001b[39;00m\n\u001b[1;32m--> 102\u001b[0m \u001b[39mself\u001b[39;49m\u001b[39m.\u001b[39;49m_set_up_model(config, use_gpu)\n\u001b[0;32m    103\u001b[0m \u001b[39m# run set up process\u001b[39;00m\n\u001b[0;32m    104\u001b[0m \u001b[39m# build the final config for the processor\u001b[39;00m\n",
            "File \u001b[1;32mc:\\Users\\Eng Osama Mo\\AppData\\Local\\Programs\\Python\\Python310\\lib\\site-packages\\stanfordnlp\\pipeline\\tokenize_processor.py:31\u001b[0m, in \u001b[0;36mTokenizeProcessor._set_up_model\u001b[1;34m(self, config, use_gpu)\u001b[0m\n\u001b[0;32m     30\u001b[0m \u001b[39melse\u001b[39;00m:\n\u001b[1;32m---> 31\u001b[0m     \u001b[39mself\u001b[39m\u001b[39m.\u001b[39m_trainer \u001b[39m=\u001b[39m Trainer(model_file\u001b[39m=\u001b[39;49mconfig[\u001b[39m'\u001b[39;49m\u001b[39mmodel_path\u001b[39;49m\u001b[39m'\u001b[39;49m], use_cuda\u001b[39m=\u001b[39;49muse_gpu)\n",
            "File \u001b[1;32mc:\\Users\\Eng Osama Mo\\AppData\\Local\\Programs\\Python\\Python310\\lib\\site-packages\\stanfordnlp\\models\\tokenize\\trainer.py:16\u001b[0m, in \u001b[0;36mTrainer.__init__\u001b[1;34m(self, args, vocab, model_file, use_cuda)\u001b[0m\n\u001b[0;32m     14\u001b[0m \u001b[39mif\u001b[39;00m model_file \u001b[39mis\u001b[39;00m \u001b[39mnot\u001b[39;00m \u001b[39mNone\u001b[39;00m:\n\u001b[0;32m     15\u001b[0m     \u001b[39m# load everything from file\u001b[39;00m\n\u001b[1;32m---> 16\u001b[0m     \u001b[39mself\u001b[39;49m\u001b[39m.\u001b[39;49mload(model_file)\n\u001b[0;32m     17\u001b[0m \u001b[39melse\u001b[39;00m:\n\u001b[0;32m     18\u001b[0m     \u001b[39m# build model from scratch\u001b[39;00m\n",
            "File \u001b[1;32mc:\\Users\\Eng Osama Mo\\AppData\\Local\\Programs\\Python\\Python310\\lib\\site-packages\\stanfordnlp\\models\\tokenize\\trainer.py:85\u001b[0m, in \u001b[0;36mTrainer.load\u001b[1;34m(self, filename)\u001b[0m\n\u001b[0;32m     84\u001b[0m     \u001b[39mprint\u001b[39m(\u001b[39m\"\u001b[39m\u001b[39mCannot load model from \u001b[39m\u001b[39m{}\u001b[39;00m\u001b[39m\"\u001b[39m\u001b[39m.\u001b[39mformat(filename))\n\u001b[1;32m---> 85\u001b[0m     sys\u001b[39m.\u001b[39;49mexit(\u001b[39m1\u001b[39;49m)\n\u001b[0;32m     86\u001b[0m \u001b[39mself\u001b[39m\u001b[39m.\u001b[39margs \u001b[39m=\u001b[39m checkpoint[\u001b[39m'\u001b[39m\u001b[39mconfig\u001b[39m\u001b[39m'\u001b[39m]\n",
            "\u001b[1;31mSystemExit\u001b[0m: 1",
            "\nDuring handling of the above exception, another exception occurred:\n",
            "\u001b[1;31mAssertionError\u001b[0m                            Traceback (most recent call last)",
            "    \u001b[1;31m[... skipping hidden 1 frame]\u001b[0m\n",
            "File \u001b[1;32mc:\\Users\\Eng Osama Mo\\AppData\\Local\\Programs\\Python\\Python310\\lib\\site-packages\\IPython\\core\\interactiveshell.py:1983\u001b[0m, in \u001b[0;36mInteractiveShell.showtraceback\u001b[1;34m(self, exc_tuple, filename, tb_offset, exception_only, running_compiled_code)\u001b[0m\n\u001b[0;32m   1980\u001b[0m \u001b[39mif\u001b[39;00m exception_only:\n\u001b[0;32m   1981\u001b[0m     stb \u001b[39m=\u001b[39m [\u001b[39m'\u001b[39m\u001b[39mAn exception has occurred, use \u001b[39m\u001b[39m%\u001b[39m\u001b[39mtb to see \u001b[39m\u001b[39m'\u001b[39m\n\u001b[0;32m   1982\u001b[0m            \u001b[39m'\u001b[39m\u001b[39mthe full traceback.\u001b[39m\u001b[39m\\n\u001b[39;00m\u001b[39m'\u001b[39m]\n\u001b[1;32m-> 1983\u001b[0m     stb\u001b[39m.\u001b[39mextend(\u001b[39mself\u001b[39;49m\u001b[39m.\u001b[39;49mInteractiveTB\u001b[39m.\u001b[39;49mget_exception_only(etype,\n\u001b[0;32m   1984\u001b[0m                                                      value))\n\u001b[0;32m   1985\u001b[0m \u001b[39melse\u001b[39;00m:\n\u001b[0;32m   1986\u001b[0m     \u001b[39mtry\u001b[39;00m:\n\u001b[0;32m   1987\u001b[0m         \u001b[39m# Exception classes can customise their traceback - we\u001b[39;00m\n\u001b[0;32m   1988\u001b[0m         \u001b[39m# use this in IPython.parallel for exceptions occurring\u001b[39;00m\n\u001b[0;32m   1989\u001b[0m         \u001b[39m# in the engines. This should return a list of strings.\u001b[39;00m\n",
            "File \u001b[1;32mc:\\Users\\Eng Osama Mo\\AppData\\Local\\Programs\\Python\\Python310\\lib\\site-packages\\IPython\\core\\ultratb.py:585\u001b[0m, in \u001b[0;36mListTB.get_exception_only\u001b[1;34m(self, etype, value)\u001b[0m\n\u001b[0;32m    577\u001b[0m \u001b[39mdef\u001b[39;00m \u001b[39mget_exception_only\u001b[39m(\u001b[39mself\u001b[39m, etype, value):\n\u001b[0;32m    578\u001b[0m     \u001b[39m\"\"\"Only print the exception type and message, without a traceback.\u001b[39;00m\n\u001b[0;32m    579\u001b[0m \n\u001b[0;32m    580\u001b[0m \u001b[39m    Parameters\u001b[39;00m\n\u001b[1;32m   (...)\u001b[0m\n\u001b[0;32m    583\u001b[0m \u001b[39m    value : exception value\u001b[39;00m\n\u001b[0;32m    584\u001b[0m \u001b[39m    \"\"\"\u001b[39;00m\n\u001b[1;32m--> 585\u001b[0m     \u001b[39mreturn\u001b[39;00m ListTB\u001b[39m.\u001b[39;49mstructured_traceback(\u001b[39mself\u001b[39;49m, etype, value)\n",
            "File \u001b[1;32mc:\\Users\\Eng Osama Mo\\AppData\\Local\\Programs\\Python\\Python310\\lib\\site-packages\\IPython\\core\\ultratb.py:443\u001b[0m, in \u001b[0;36mListTB.structured_traceback\u001b[1;34m(self, etype, evalue, etb, tb_offset, context)\u001b[0m\n\u001b[0;32m    440\u001b[0m     chained_exc_ids\u001b[39m.\u001b[39madd(\u001b[39mid\u001b[39m(exception[\u001b[39m1\u001b[39m]))\n\u001b[0;32m    441\u001b[0m     chained_exceptions_tb_offset \u001b[39m=\u001b[39m \u001b[39m0\u001b[39m\n\u001b[0;32m    442\u001b[0m     out_list \u001b[39m=\u001b[39m (\n\u001b[1;32m--> 443\u001b[0m         \u001b[39mself\u001b[39;49m\u001b[39m.\u001b[39;49mstructured_traceback(\n\u001b[0;32m    444\u001b[0m             etype, evalue, (etb, chained_exc_ids),\n\u001b[0;32m    445\u001b[0m             chained_exceptions_tb_offset, context)\n\u001b[0;32m    446\u001b[0m         \u001b[39m+\u001b[39m chained_exception_message\n\u001b[0;32m    447\u001b[0m         \u001b[39m+\u001b[39m out_list)\n\u001b[0;32m    449\u001b[0m \u001b[39mreturn\u001b[39;00m out_list\n",
            "File \u001b[1;32mc:\\Users\\Eng Osama Mo\\AppData\\Local\\Programs\\Python\\Python310\\lib\\site-packages\\IPython\\core\\ultratb.py:1118\u001b[0m, in \u001b[0;36mAutoFormattedTB.structured_traceback\u001b[1;34m(self, etype, value, tb, tb_offset, number_of_lines_of_context)\u001b[0m\n\u001b[0;32m   1116\u001b[0m \u001b[39melse\u001b[39;00m:\n\u001b[0;32m   1117\u001b[0m     \u001b[39mself\u001b[39m\u001b[39m.\u001b[39mtb \u001b[39m=\u001b[39m tb\n\u001b[1;32m-> 1118\u001b[0m \u001b[39mreturn\u001b[39;00m FormattedTB\u001b[39m.\u001b[39;49mstructured_traceback(\n\u001b[0;32m   1119\u001b[0m     \u001b[39mself\u001b[39;49m, etype, value, tb, tb_offset, number_of_lines_of_context)\n",
            "File \u001b[1;32mc:\\Users\\Eng Osama Mo\\AppData\\Local\\Programs\\Python\\Python310\\lib\\site-packages\\IPython\\core\\ultratb.py:1012\u001b[0m, in \u001b[0;36mFormattedTB.structured_traceback\u001b[1;34m(self, etype, value, tb, tb_offset, number_of_lines_of_context)\u001b[0m\n\u001b[0;32m   1009\u001b[0m mode \u001b[39m=\u001b[39m \u001b[39mself\u001b[39m\u001b[39m.\u001b[39mmode\n\u001b[0;32m   1010\u001b[0m \u001b[39mif\u001b[39;00m mode \u001b[39min\u001b[39;00m \u001b[39mself\u001b[39m\u001b[39m.\u001b[39mverbose_modes:\n\u001b[0;32m   1011\u001b[0m     \u001b[39m# Verbose modes need a full traceback\u001b[39;00m\n\u001b[1;32m-> 1012\u001b[0m     \u001b[39mreturn\u001b[39;00m VerboseTB\u001b[39m.\u001b[39;49mstructured_traceback(\n\u001b[0;32m   1013\u001b[0m         \u001b[39mself\u001b[39;49m, etype, value, tb, tb_offset, number_of_lines_of_context\n\u001b[0;32m   1014\u001b[0m     )\n\u001b[0;32m   1015\u001b[0m \u001b[39melif\u001b[39;00m mode \u001b[39m==\u001b[39m \u001b[39m'\u001b[39m\u001b[39mMinimal\u001b[39m\u001b[39m'\u001b[39m:\n\u001b[0;32m   1016\u001b[0m     \u001b[39mreturn\u001b[39;00m ListTB\u001b[39m.\u001b[39mget_exception_only(\u001b[39mself\u001b[39m, etype, value)\n",
            "File \u001b[1;32mc:\\Users\\Eng Osama Mo\\AppData\\Local\\Programs\\Python\\Python310\\lib\\site-packages\\IPython\\core\\ultratb.py:865\u001b[0m, in \u001b[0;36mVerboseTB.structured_traceback\u001b[1;34m(self, etype, evalue, etb, tb_offset, number_of_lines_of_context)\u001b[0m\n\u001b[0;32m    856\u001b[0m \u001b[39mdef\u001b[39;00m \u001b[39mstructured_traceback\u001b[39m(\n\u001b[0;32m    857\u001b[0m     \u001b[39mself\u001b[39m,\n\u001b[0;32m    858\u001b[0m     etype: \u001b[39mtype\u001b[39m,\n\u001b[1;32m   (...)\u001b[0m\n\u001b[0;32m    862\u001b[0m     number_of_lines_of_context: \u001b[39mint\u001b[39m \u001b[39m=\u001b[39m \u001b[39m5\u001b[39m,\n\u001b[0;32m    863\u001b[0m ):\n\u001b[0;32m    864\u001b[0m     \u001b[39m\"\"\"Return a nice text document describing the traceback.\"\"\"\u001b[39;00m\n\u001b[1;32m--> 865\u001b[0m     formatted_exception \u001b[39m=\u001b[39m \u001b[39mself\u001b[39;49m\u001b[39m.\u001b[39;49mformat_exception_as_a_whole(etype, evalue, etb, number_of_lines_of_context,\n\u001b[0;32m    866\u001b[0m                                                            tb_offset)\n\u001b[0;32m    868\u001b[0m     colors \u001b[39m=\u001b[39m \u001b[39mself\u001b[39m\u001b[39m.\u001b[39mColors  \u001b[39m# just a shorthand + quicker name lookup\u001b[39;00m\n\u001b[0;32m    869\u001b[0m     colorsnormal \u001b[39m=\u001b[39m colors\u001b[39m.\u001b[39mNormal  \u001b[39m# used a lot\u001b[39;00m\n",
            "File \u001b[1;32mc:\\Users\\Eng Osama Mo\\AppData\\Local\\Programs\\Python\\Python310\\lib\\site-packages\\IPython\\core\\ultratb.py:799\u001b[0m, in \u001b[0;36mVerboseTB.format_exception_as_a_whole\u001b[1;34m(self, etype, evalue, etb, number_of_lines_of_context, tb_offset)\u001b[0m\n\u001b[0;32m    796\u001b[0m \u001b[39massert\u001b[39;00m \u001b[39misinstance\u001b[39m(tb_offset, \u001b[39mint\u001b[39m)\n\u001b[0;32m    797\u001b[0m head \u001b[39m=\u001b[39m \u001b[39mself\u001b[39m\u001b[39m.\u001b[39mprepare_header(etype, \u001b[39mself\u001b[39m\u001b[39m.\u001b[39mlong_header)\n\u001b[0;32m    798\u001b[0m records \u001b[39m=\u001b[39m (\n\u001b[1;32m--> 799\u001b[0m     \u001b[39mself\u001b[39;49m\u001b[39m.\u001b[39;49mget_records(etb, number_of_lines_of_context, tb_offset) \u001b[39mif\u001b[39;00m etb \u001b[39melse\u001b[39;00m []\n\u001b[0;32m    800\u001b[0m )\n\u001b[0;32m    802\u001b[0m frames \u001b[39m=\u001b[39m []\n\u001b[0;32m    803\u001b[0m skipped \u001b[39m=\u001b[39m \u001b[39m0\u001b[39m\n",
            "File \u001b[1;32mc:\\Users\\Eng Osama Mo\\AppData\\Local\\Programs\\Python\\Python310\\lib\\site-packages\\IPython\\core\\ultratb.py:854\u001b[0m, in \u001b[0;36mVerboseTB.get_records\u001b[1;34m(self, etb, number_of_lines_of_context, tb_offset)\u001b[0m\n\u001b[0;32m    848\u001b[0m     formatter \u001b[39m=\u001b[39m \u001b[39mNone\u001b[39;00m\n\u001b[0;32m    849\u001b[0m options \u001b[39m=\u001b[39m stack_data\u001b[39m.\u001b[39mOptions(\n\u001b[0;32m    850\u001b[0m     before\u001b[39m=\u001b[39mbefore,\n\u001b[0;32m    851\u001b[0m     after\u001b[39m=\u001b[39mafter,\n\u001b[0;32m    852\u001b[0m     pygments_formatter\u001b[39m=\u001b[39mformatter,\n\u001b[0;32m    853\u001b[0m )\n\u001b[1;32m--> 854\u001b[0m \u001b[39mreturn\u001b[39;00m \u001b[39mlist\u001b[39;49m(stack_data\u001b[39m.\u001b[39;49mFrameInfo\u001b[39m.\u001b[39;49mstack_data(etb, options\u001b[39m=\u001b[39;49moptions))[tb_offset:]\n",
            "File \u001b[1;32mc:\\Users\\Eng Osama Mo\\AppData\\Local\\Programs\\Python\\Python310\\lib\\site-packages\\stack_data\\core.py:578\u001b[0m, in \u001b[0;36mFrameInfo.stack_data\u001b[1;34m(cls, frame_or_tb, options, collapse_repeated_frames)\u001b[0m\n\u001b[0;32m    562\u001b[0m \u001b[39m@classmethod\u001b[39m\n\u001b[0;32m    563\u001b[0m \u001b[39mdef\u001b[39;00m \u001b[39mstack_data\u001b[39m(\n\u001b[0;32m    564\u001b[0m         \u001b[39mcls\u001b[39m,\n\u001b[1;32m   (...)\u001b[0m\n\u001b[0;32m    568\u001b[0m         collapse_repeated_frames: \u001b[39mbool\u001b[39m \u001b[39m=\u001b[39m \u001b[39mTrue\u001b[39;00m\n\u001b[0;32m    569\u001b[0m ) \u001b[39m-\u001b[39m\u001b[39m>\u001b[39m Iterator[Union[\u001b[39m'\u001b[39m\u001b[39mFrameInfo\u001b[39m\u001b[39m'\u001b[39m, RepeatedFrames]]:\n\u001b[0;32m    570\u001b[0m     \u001b[39m\"\"\"\u001b[39;00m\n\u001b[0;32m    571\u001b[0m \u001b[39m    An iterator of FrameInfo and RepeatedFrames objects representing\u001b[39;00m\n\u001b[0;32m    572\u001b[0m \u001b[39m    a full traceback or stack. Similar consecutive frames are collapsed into RepeatedFrames\u001b[39;00m\n\u001b[1;32m   (...)\u001b[0m\n\u001b[0;32m    576\u001b[0m \u001b[39m    and optionally an Options object to configure.\u001b[39;00m\n\u001b[0;32m    577\u001b[0m \u001b[39m    \"\"\"\u001b[39;00m\n\u001b[1;32m--> 578\u001b[0m     stack \u001b[39m=\u001b[39m \u001b[39mlist\u001b[39;49m(iter_stack(frame_or_tb))\n\u001b[0;32m    580\u001b[0m     \u001b[39m# Reverse the stack from a frame so that it's in the same order\u001b[39;00m\n\u001b[0;32m    581\u001b[0m     \u001b[39m# as the order from a traceback, which is the order of a printed\u001b[39;00m\n\u001b[0;32m    582\u001b[0m     \u001b[39m# traceback when read top to bottom (most recent call last)\u001b[39;00m\n\u001b[0;32m    583\u001b[0m     \u001b[39mif\u001b[39;00m is_frame(frame_or_tb):\n",
            "File \u001b[1;32mc:\\Users\\Eng Osama Mo\\AppData\\Local\\Programs\\Python\\Python310\\lib\\site-packages\\stack_data\\utils.py:98\u001b[0m, in \u001b[0;36miter_stack\u001b[1;34m(frame_or_tb)\u001b[0m\n\u001b[0;32m     96\u001b[0m \u001b[39mwhile\u001b[39;00m frame_or_tb:\n\u001b[0;32m     97\u001b[0m     \u001b[39myield\u001b[39;00m frame_or_tb\n\u001b[1;32m---> 98\u001b[0m     \u001b[39mif\u001b[39;00m is_frame(frame_or_tb):\n\u001b[0;32m     99\u001b[0m         frame_or_tb \u001b[39m=\u001b[39m frame_or_tb\u001b[39m.\u001b[39mf_back\n\u001b[0;32m    100\u001b[0m     \u001b[39melse\u001b[39;00m:\n",
            "File \u001b[1;32mc:\\Users\\Eng Osama Mo\\AppData\\Local\\Programs\\Python\\Python310\\lib\\site-packages\\stack_data\\utils.py:91\u001b[0m, in \u001b[0;36mis_frame\u001b[1;34m(frame_or_tb)\u001b[0m\n\u001b[0;32m     90\u001b[0m \u001b[39mdef\u001b[39;00m \u001b[39mis_frame\u001b[39m(frame_or_tb: Union[FrameType, TracebackType]) \u001b[39m-\u001b[39m\u001b[39m>\u001b[39m \u001b[39mbool\u001b[39m:\n\u001b[1;32m---> 91\u001b[0m     assert_(\u001b[39misinstance\u001b[39;49m(frame_or_tb, (types\u001b[39m.\u001b[39;49mFrameType, types\u001b[39m.\u001b[39;49mTracebackType)))\n\u001b[0;32m     92\u001b[0m     \u001b[39mreturn\u001b[39;00m \u001b[39misinstance\u001b[39m(frame_or_tb, (types\u001b[39m.\u001b[39mFrameType,))\n",
            "File \u001b[1;32mc:\\Users\\Eng Osama Mo\\AppData\\Local\\Programs\\Python\\Python310\\lib\\site-packages\\stack_data\\utils.py:172\u001b[0m, in \u001b[0;36massert_\u001b[1;34m(condition, error)\u001b[0m\n\u001b[0;32m    170\u001b[0m \u001b[39mif\u001b[39;00m \u001b[39misinstance\u001b[39m(error, \u001b[39mstr\u001b[39m):\n\u001b[0;32m    171\u001b[0m     error \u001b[39m=\u001b[39m \u001b[39mAssertionError\u001b[39;00m(error)\n\u001b[1;32m--> 172\u001b[0m \u001b[39mraise\u001b[39;00m error\n",
            "\u001b[1;31mAssertionError\u001b[0m: "
          ]
        }
      ],
      "source": [
        "processDependency(\"I Said 'Hello Osama Mohammed'\")"
      ]
    },
    {
      "cell_type": "markdown",
      "metadata": {
        "id": "4BZYHKxhU30i"
      },
      "source": [
        "## 3. Extract Information "
      ]
    },
    {
      "cell_type": "markdown",
      "metadata": {
        "id": "LjgBPOAOVJkz"
      },
      "source": [
        "Given the dependency relations and a druglist, this function extracts the relevant information, including the action, drugA, and drugB involved in the interaction. It returns these lists along with the sonsNum and sons matrices."
      ]
    },
    {
      "cell_type": "code",
      "execution_count": null,
      "metadata": {
        "id": "rVBRi5zLe_eL"
      },
      "outputs": [],
      "source": [
        "mechanism = []    # scenario for each Drug + Action\n",
        "action = []       # root action \n",
        "drugA = []\n",
        "drugB = []"
      ]
    },
    {
      "cell_type": "code",
      "execution_count": null,
      "metadata": {
        "id": "r3t_uT29P9sy"
      },
      "outputs": [],
      "source": [
        "def extractInformation(dependency, druglist):\n",
        "    \"\"\"\n",
        "    Extract relevant information from the dependency relations.\n",
        "    Returns action, drugA, and drugB lists.\n",
        "    \"\"\"\n",
        "    #  2D array where each row corresponds to a word, and each column\n",
        "    sons = np.zeros((len(dependency), len(dependency)))\n",
        "    #  1D NumPy array that keeps track of the number of sons (dependencies) for each word in the sentence \n",
        "    #  (eg. first row = 5, thus first 5 rows in sons are for first sentence)\n",
        "    sonsNum = np.zeros(len(dependency))\n",
        "    #  identify whether a word should be added to the drugA or drugB list. True => drugB, False => drugA\n",
        "    flag = False\n",
        "    count = 0\n",
        "\n",
        "    for j in dependency:\n",
        "        if j.dependency_relation == 'root':\n",
        "            root = int(j.index)\n",
        "            action.append(j.lemma)\n",
        "        if j.text in druglist:\n",
        "            if count < 2:\n",
        "                if flag:\n",
        "                    drugB.append(j.text)\n",
        "                    count += 1\n",
        "                else:\n",
        "                    drugA.append(j.text)\n",
        "                    flag = True\n",
        "                    count += 1\n",
        "        sonsNum[j.governor - 1] += 1\n",
        "        sons[j.governor - 1, int(sonsNum[j.governor - 1] - 1)] = int(j.index)\n",
        "    \n",
        "    return sons,sonsNum,  root"
      ]
    },
    {
      "cell_type": "code",
      "execution_count": null,
      "metadata": {
        "id": "Eh-Ue3gceSC0"
      },
      "outputs": [],
      "source": [
        "def addMechanism(node, sonsNum, sons, dependency, drugA, drugB, i):\n",
        "    \"\"\"\n",
        "    Recursive function to add mechanism nodes to the queue based on dependency relations.\n",
        "    \"\"\"\n",
        "    quene = []\n",
        "    if int(sonsNum[int(node-1)]) == 0:\n",
        "        return quene\n",
        "    else:\n",
        "        for k in sons[node-1]:\n",
        "            if int(k) == 0:\n",
        "                break\n",
        "            if dependency[int(k - 1)].text == drugA[i] or dependency[int(k - 1)].text == drugB[i]:\n",
        "                continue\n",
        "            quene.append(int(k))\n",
        "            quene.extend(addMechanism(int(k), sonsNum, sons, dependency, drugA, drugB, i))\n",
        "    return quene"
      ]
    },
    {
      "cell_type": "markdown",
      "metadata": {
        "id": "TWCjxQA2fS8D"
      },
      "source": [
        "## 4. Main Function of Notebook \n",
        "It takes a druglist and a dataframe containing interaction events as input. This function processes the interaction events using StanfordNLP, extracts relevant information, and returns the mechanism, action, drugA, and drugB lists."
      ]
    },
    {
      "cell_type": "code",
      "execution_count": null,
      "metadata": {
        "id": "nIopc8-TU84m"
      },
      "outputs": [],
      "source": [
        "def NLPProcess(druglist, df_interaction):\n",
        "    \"\"\"\n",
        "    Process the interaction events using StanfordNLP and extract relevant information.\n",
        "    \"\"\"\n",
        "    event = df_interaction['interaction']\n",
        "    \n",
        "    for i in range(len(event)):\n",
        "        dependency = processDependency(event[i])\n",
        "        sons,sonsNum,  root = extractInformation(dependency, druglist)\n",
        "        \n",
        "        quene = []\n",
        "        for j in range(int(sonsNum[root-1])):\n",
        "            if dependency[int(sons[root-1, j] - 1)].dependency_relation == 'obj' or dependency[int(sons[root-1, j] - 1)].dependency_relation == 'nsubj:pass':\n",
        "                quene.append(int(sons[root-1, j]))\n",
        "                break\n",
        "        \n",
        "        quene = addMechanism(quene[0], sonsNum, sons, dependency, drugA[i], drugB[i], i)\n",
        "        quene.sort()\n",
        "        mechanism_i = \" \".join(dependency[j - 1].text for j in quene)\n",
        "        \n",
        "        if mechanism_i == \"the fluid retaining activities\":\n",
        "            mechanism_i = \"the fluid\"\n",
        "        if mechanism_i == \"atrioventricular blocking ( AV block )\":\n",
        "            mechanism_i = \"the atrioventricular blocking ( AV block ) activities increase\"\n",
        "        \n",
        "\n",
        "    return mechanism, action, drugA, drugB"
      ]
    },
    {
      "cell_type": "markdown",
      "metadata": {
        "id": "G1WS85C5hQjF"
      },
      "source": [
        "---"
      ]
    }
  ],
  "metadata": {
    "colab": {
      "provenance": [],
      "toc_visible": true
    },
    "kernelspec": {
      "display_name": "Python 3",
      "language": "python",
      "name": "python3"
    },
    "language_info": {
      "codemirror_mode": {
        "name": "ipython",
        "version": 3
      },
      "file_extension": ".py",
      "mimetype": "text/x-python",
      "name": "python",
      "nbconvert_exporter": "python",
      "pygments_lexer": "ipython3",
      "version": "3.10.6"
    },
    "vscode": {
      "interpreter": {
        "hash": "9a9cb064a66d6bf474623f10a32dcaa1e6bd1eee0b2ba988d2ac7a1661d857d6"
      }
    }
  },
  "nbformat": 4,
  "nbformat_minor": 0
}
